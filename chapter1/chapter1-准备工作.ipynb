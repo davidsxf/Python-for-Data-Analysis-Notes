{
 "cells": [
  {
   "cell_type": "markdown",
   "metadata": {},
   "source": [
    "# 第1章 准备工作"
   ]
  },
  {
   "cell_type": "markdown",
   "metadata": {},
   "source": [
    "## 重要的Python库"
   ]
  },
  {
   "cell_type": "markdown",
   "metadata": {},
   "source": [
    "1. NumPy\n",
    "    - NumPy在数据分析方面有一个主要作用，即作为算法之间传递数据的容器，对于数值型数据，NumPy数组在存储和处理数据时要比内置的Python数据结构高效的多，此外，由低级语言（C、Fortran等）编写的库可以直接操作NumPy数组中的数据，无需进行任何数据复制工作\n",
    "2. pandas\n",
    "    - 兼具NumPy高性能的数组计算功能以及电子表格和关系型数据库（SQL等）灵活的数据处理功能\n",
    "3. matplotlib\n",
    "4. IPython\n",
    "5. SciPy"
   ]
  }
 ],
 "metadata": {
  "kernelspec": {
   "display_name": "Python 2",
   "language": "python",
   "name": "python2"
  },
  "language_info": {
   "codemirror_mode": {
    "name": "ipython",
    "version": 2
   },
   "file_extension": ".py",
   "mimetype": "text/x-python",
   "name": "python",
   "nbconvert_exporter": "python",
   "pygments_lexer": "ipython2",
   "version": "2.7.10"
  }
 },
 "nbformat": 4,
 "nbformat_minor": 2
}
